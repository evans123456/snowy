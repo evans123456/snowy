{
 "cells": [
  {
   "cell_type": "code",
   "execution_count": 2,
   "metadata": {},
   "outputs": [],
   "source": [
    "import torch\n",
    "import torchvision"
   ]
  },
  {
   "cell_type": "code",
   "execution_count": 5,
   "metadata": {},
   "outputs": [
    {
     "name": "stdout",
     "output_type": "stream",
     "text": [
      "tensor([2, 2, 1])\n"
     ]
    }
   ],
   "source": [
    "#one dimensional tensor\n",
    "a = torch.tensor([2,2,1])\n",
    "print(a)"
   ]
  },
  {
   "cell_type": "code",
   "execution_count": 14,
   "metadata": {},
   "outputs": [
    {
     "name": "stdout",
     "output_type": "stream",
     "text": [
      "tensor([[2, 2, 1],\n",
      "        [1, 1, 1],\n",
      "        [3, 4, 5]])\n"
     ]
    }
   ],
   "source": [
    "#two dimensional tensor\n",
    "b = torch.tensor([[2,2,1],[1,1,1],[3,4,5]])\n",
    "print(b)"
   ]
  },
  {
   "cell_type": "code",
   "execution_count": 15,
   "metadata": {},
   "outputs": [
    {
     "name": "stdout",
     "output_type": "stream",
     "text": [
      "torch.Size([3])\n",
      "torch.Size([3, 3])\n",
      "torch.Size([3])\n",
      "torch.Size([3, 3])\n"
     ]
    }
   ],
   "source": [
    "#the size of the tensors\n",
    "print(a.shape)\n",
    "print(b.shape)\n",
    "print(a.size())\n",
    "print(b.size())"
   ]
  },
  {
   "cell_type": "code",
   "execution_count": 16,
   "metadata": {},
   "outputs": [
    {
     "name": "stdout",
     "output_type": "stream",
     "text": [
      "3\n"
     ]
    }
   ],
   "source": [
    "#get the hight oor number of rows of b\n",
    "print(b.shape[0])"
   ]
  },
  {
   "cell_type": "code",
   "execution_count": 17,
   "metadata": {},
   "outputs": [],
   "source": [
    "c = torch.FloatTensor([[2,2,1],[1,1,1],[3,4,5]])\n"
   ]
  },
  {
   "cell_type": "code",
   "execution_count": 18,
   "metadata": {},
   "outputs": [],
   "source": [
    "d = torch.DoubleTensor([[2,2,1],[1,1,1],[3,4,5]])\n"
   ]
  },
  {
   "cell_type": "code",
   "execution_count": 21,
   "metadata": {},
   "outputs": [
    {
     "name": "stdout",
     "output_type": "stream",
     "text": [
      "tensor([[2., 2., 1.],\n",
      "        [1., 1., 1.],\n",
      "        [3., 4., 5.]])\n",
      "torch.FloatTensor\n"
     ]
    }
   ],
   "source": [
    "print(c)\n",
    "print(c.type())"
   ]
  },
  {
   "cell_type": "code",
   "execution_count": 23,
   "metadata": {},
   "outputs": [
    {
     "name": "stdout",
     "output_type": "stream",
     "text": [
      "tensor(2.2222)\n"
     ]
    }
   ],
   "source": [
    "print(c.mean())"
   ]
  },
  {
   "cell_type": "code",
   "execution_count": 24,
   "metadata": {},
   "outputs": [
    {
     "name": "stdout",
     "output_type": "stream",
     "text": [
      "tensor(1.4814)\n"
     ]
    }
   ],
   "source": [
    "print(c.std())"
   ]
  },
  {
   "cell_type": "code",
   "execution_count": 34,
   "metadata": {},
   "outputs": [
    {
     "name": "stdout",
     "output_type": "stream",
     "text": [
      "tensor([[2, 2, 1, 1, 1, 1, 3, 4, 5]])\n"
     ]
    }
   ],
   "source": [
    "#print(b.view(-1,1)) # the negative is any number of rows you want\n",
    "#print(b.view(9)) #flatens it (the number should be size of the array)\n",
    "# print(b.view(-1,3))\n",
    "# print(b.view(3,3))# explicitly specifying the nums\n",
    "b = b.view(1,-1)\n",
    "print(b)"
   ]
  },
  {
   "cell_type": "code",
   "execution_count": 36,
   "metadata": {},
   "outputs": [
    {
     "name": "stdout",
     "output_type": "stream",
     "text": [
      "tensor([[[ 1.1292,  1.1507,  0.0954,  0.2882],\n",
      "         [ 1.0574,  2.3110, -0.0830, -0.6775],\n",
      "         [-0.7581,  0.1685, -1.1915, -0.7570]],\n",
      "\n",
      "        [[-0.4611, -0.1766, -1.4222, -0.7052],\n",
      "         [-0.0591,  0.3070,  0.2552,  0.4945],\n",
      "         [ 0.1424, -1.2526, -1.5347,  0.2251]]])\n"
     ]
    }
   ],
   "source": [
    "#create a 3d tensor with 2 chanels,3 rows , 4 columns\n",
    "three_dim = torch.randn(2,3,4) #n stands for normal distribution\n",
    "print(three_dim)"
   ]
  },
  {
   "cell_type": "code",
   "execution_count": 39,
   "metadata": {},
   "outputs": [
    {
     "name": "stdout",
     "output_type": "stream",
     "text": [
      "tensor([[0.1616, 0.6891, 0.3616, 0.7185],\n",
      "        [0.5357, 0.3119, 0.8853, 0.6827],\n",
      "        [0.1395, 0.4487, 0.6077, 0.2294],\n",
      "        [0.8523, 0.4538, 0.7377, 0.9409]])\n"
     ]
    }
   ],
   "source": [
    "r = torch.rand(4,4) #without the n it will print between 0 and 1\n",
    "print(r)"
   ]
  },
  {
   "cell_type": "code",
   "execution_count": 45,
   "metadata": {},
   "outputs": [
    {
     "name": "stdout",
     "output_type": "stream",
     "text": [
      "tensor([[6, 7, 9],\n",
      "        [6, 8, 9],\n",
      "        [7, 8, 6]])\n"
     ]
    }
   ],
   "source": [
    "#creating an array of 5 randomn ints excluding 10\n",
    "in_array = torch.randint(6,10, (3,3)) #the rand int doesnt include the last digit. \n",
    "#and the tuple is for showing the shape\n",
    "print(in_array)"
   ]
  },
  {
   "cell_type": "code",
   "execution_count": 47,
   "metadata": {},
   "outputs": [
    {
     "name": "stdout",
     "output_type": "stream",
     "text": [
      "9\n"
     ]
    }
   ],
   "source": [
    "print(torch.numel(in_array)) #number of elements in the array"
   ]
  },
  {
   "cell_type": "code",
   "execution_count": 48,
   "metadata": {},
   "outputs": [
    {
     "name": "stdout",
     "output_type": "stream",
     "text": [
      "tensor([[0., 0., 0.],\n",
      "        [0., 0., 0.],\n",
      "        [0., 0., 0.]])\n",
      "tensor([[1., 1., 1.],\n",
      "        [1., 1., 1.],\n",
      "        [1., 1., 1.]])\n"
     ]
    }
   ],
   "source": [
    "z = torch.zeros(3,3)\n",
    "y = torch.ones(3,3)\n",
    "print(z)\n",
    "print(y)"
   ]
  },
  {
   "cell_type": "code",
   "execution_count": 52,
   "metadata": {},
   "outputs": [
    {
     "name": "stdout",
     "output_type": "stream",
     "text": [
      "tensor([[-0.2185, -1.0103, -0.6033],\n",
      "        [ 1.3278,  0.4724,  0.1164],\n",
      "        [ 0.0554,  0.1673, -0.3166]], dtype=torch.float64)\n"
     ]
    }
   ],
   "source": [
    "c_like = torch.randn_like(c, dtype = torch.double)\n",
    "print(c_like)"
   ]
  },
  {
   "cell_type": "code",
   "execution_count": 54,
   "metadata": {},
   "outputs": [
    {
     "name": "stdout",
     "output_type": "stream",
     "text": [
      "tensor([[1., 1., 1.],\n",
      "        [1., 1., 1.],\n",
      "        [1., 1., 1.]])\n"
     ]
    }
   ],
   "source": [
    "#add two matrices, they have to be of the same shape and data type\n",
    "add_result = torch.add(z,y)\n",
    "print(add_result)"
   ]
  },
  {
   "cell_type": "code",
   "execution_count": 55,
   "metadata": {},
   "outputs": [
    {
     "name": "stdout",
     "output_type": "stream",
     "text": [
      "tensor([[1., 1., 1.],\n",
      "        [1., 1., 1.],\n",
      "        [1., 1., 1.]])\n"
     ]
    }
   ],
   "source": [
    "#inplace addition\n",
    "z.add_(y)\n",
    "print(z)"
   ]
  },
  {
   "cell_type": "code",
   "execution_count": 60,
   "metadata": {},
   "outputs": [
    {
     "name": "stdout",
     "output_type": "stream",
     "text": [
      "tensor([-1.0103,  0.4724,  0.1673], dtype=torch.float64)\n",
      "tensor([[-0.2185, -1.0103],\n",
      "        [ 1.3278,  0.4724],\n",
      "        [ 0.0554,  0.1673]], dtype=torch.float64)\n",
      "tensor([[-0.2185, -1.0103, -0.6033],\n",
      "        [ 1.3278,  0.4724,  0.1164],\n",
      "        [ 0.0554,  0.1673, -0.3166]], dtype=torch.float64)\n"
     ]
    }
   ],
   "source": [
    "#array slicing using C_like\n",
    "print(c_like[:,1] )\n",
    "print( c_like[:,:2])# excluding the 2nd column\n",
    "print(c_like[:3,] )"
   ]
  },
  {
   "cell_type": "code",
   "execution_count": 65,
   "metadata": {},
   "outputs": [
    {
     "name": "stdout",
     "output_type": "stream",
     "text": [
      "tensor([[-0.2185, -1.0103, -0.6033],\n",
      "        [ 1.3278,  0.4724,  0.1164],\n",
      "        [ 0.0554,  0.1673, -0.3166]], dtype=torch.float64)\n",
      "tensor(0.0554, dtype=torch.float64)\n",
      "0.05541327178811771\n"
     ]
    }
   ],
   "source": [
    "print(c_like)\n",
    "num = c_like[2,0]\n",
    "print(num)\n",
    "print(num.item())"
   ]
  },
  {
   "cell_type": "code",
   "execution_count": null,
   "metadata": {},
   "outputs": [],
   "source": []
  }
 ],
 "metadata": {
  "kernelspec": {
   "display_name": "Python 3",
   "language": "python",
   "name": "python3"
  },
  "language_info": {
   "codemirror_mode": {
    "name": "ipython",
    "version": 3
   },
   "file_extension": ".py",
   "mimetype": "text/x-python",
   "name": "python",
   "nbconvert_exporter": "python",
   "pygments_lexer": "ipython3",
   "version": "3.7.2"
  }
 },
 "nbformat": 4,
 "nbformat_minor": 2
}
